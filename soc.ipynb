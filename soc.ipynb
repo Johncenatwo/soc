{
 "cells": [
  {
   "cell_type": "code",
   "execution_count": null,
   "id": "957a0363-973a-44c1-92b7-ccff7f827aa0",
   "metadata": {},
   "outputs": [],
   "source": [
    "from datetime import datetime\n",
    "import pytz\n",
    "import os\n",
    "\n",
    "def start():\n",
    "    print(\"Enter your name when promtped.\")\n",
    "    print(\"The time you left will be recorded.\")\n",
    "    print(\"The time you returned will be recorded.\")\n",
    "    print(\"When you enter your name the time you left will be marked.\")\n",
    "    print(\"When you return, press the 'Enter' key to mark the time you returned.\")\n",
    "    print(\"Enter 'c' to continue.\")\n",
    "    \n",
    "    answer = input(\">\")\n",
    "    \n",
    "    if answer == 'c':\n",
    "        os.system(\"clear\")\n",
    "        run1()\n",
    "    else:\n",
    "        os.system(\"clear\")\n",
    "        run1()\n",
    "\n",
    "def run1():\n",
    "    print(\"\")\n",
    "    answer = input(\">\")\n",
    "    tz_ro = pytz.timezone(\"America/Chicago\")\n",
    "    current_time = datetime.now(tz_ro)\n",
    "    \n",
    "    if answer == \"\":\n",
    "        print(\"Time left:\",current_time.strftime(\"%T\"))\n",
    "        run2()\n",
    "    else:\n",
    "        print(\"Time left:\",current_time.strftime(\"%T\"))\n",
    "        run2()\n",
    "    \n",
    "def run2():\n",
    "    answer = input(\">\")\n",
    "    tz_ro = pytz.timezone(\"America/Chicago\")\n",
    "    current_time = datetime.now(tz_ro)\n",
    "    \n",
    "    if answer == \"\":\n",
    "        print(\"Time returned:\",current_time.strftime(\"%T\"))\n",
    "        run1()\n",
    "    else:\n",
    "        print(\"Time returned:\",current_time.strftime(\"%T\"))\n",
    "        run1()\n",
    "    \n",
    "start()"
   ]
  }
 ],
 "metadata": {
  "kernelspec": {
   "display_name": "anaconda-panel-2023.05-py310",
   "language": "python",
   "name": "conda-env-anaconda-panel-2023.05-py310-py"
  },
  "language_info": {
   "codemirror_mode": {
    "name": "ipython",
    "version": 3
   },
   "file_extension": ".py",
   "mimetype": "text/x-python",
   "name": "python",
   "nbconvert_exporter": "python",
   "pygments_lexer": "ipython3",
   "version": "3.11.5"
  }
 },
 "nbformat": 4,
 "nbformat_minor": 5
}
